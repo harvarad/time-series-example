{
 "cells": [
  {
   "cell_type": "markdown",
   "id": "3c5639f8",
   "metadata": {
    "execution": {
     "iopub.execute_input": "2022-01-30T05:41:29.817390Z",
     "iopub.status.busy": "2022-01-30T05:41:29.817052Z",
     "iopub.status.idle": "2022-01-30T05:41:29.821430Z",
     "shell.execute_reply": "2022-01-30T05:41:29.820584Z",
     "shell.execute_reply.started": "2022-01-30T05:41:29.817357Z"
    }
   },
   "source": [
    "## Importing Libraries"
   ]
  },
  {
   "cell_type": "code",
   "execution_count": 38,
   "id": "9cc24938",
   "metadata": {
    "execution": {
     "iopub.execute_input": "2022-01-31T05:26:33.236118Z",
     "iopub.status.busy": "2022-01-31T05:26:33.235808Z",
     "iopub.status.idle": "2022-01-31T05:26:33.244405Z",
     "shell.execute_reply": "2022-01-31T05:26:33.243612Z",
     "shell.execute_reply.started": "2022-01-31T05:26:33.236089Z"
    }
   },
   "outputs": [],
   "source": [
    "# Libraries to help with reading and manipulating data\n",
    "import pandas as pd\n",
    "import numpy as np\n",
    "\n",
    "# Libraries to help with data visualization\n",
    "import seaborn as sns\n",
    "import matplotlib.pyplot as plt\n",
    "%matplotlib inline\n",
    "\n",
    "import statsmodels.graphics.tsaplots as sgt \n",
    "import statsmodels.tsa.stattools as sts \n",
    "from statsmodels.tsa.arima_model import ARMA\n",
    "from statsmodels.tsa.seasonal import seasonal_decompose\n",
    "from statsmodels.tsa.api import ExponentialSmoothing, SimpleExpSmoothing, Holt\n",
    "from scipy.stats.distributions import chi2"
   ]
  },
  {
   "cell_type": "code",
   "execution_count": 2,
   "id": "ee3ddb34",
   "metadata": {
    "execution": {
     "iopub.execute_input": "2022-01-31T03:42:00.613326Z",
     "iopub.status.busy": "2022-01-31T03:42:00.612987Z",
     "iopub.status.idle": "2022-01-31T03:42:00.705225Z",
     "shell.execute_reply": "2022-01-31T03:42:00.704169Z",
     "shell.execute_reply.started": "2022-01-31T03:42:00.613289Z"
    }
   },
   "outputs": [
    {
     "data": {
      "text/html": [
       "<div>\n",
       "<style scoped>\n",
       "    .dataframe tbody tr th:only-of-type {\n",
       "        vertical-align: middle;\n",
       "    }\n",
       "\n",
       "    .dataframe tbody tr th {\n",
       "        vertical-align: top;\n",
       "    }\n",
       "\n",
       "    .dataframe thead th {\n",
       "        text-align: right;\n",
       "    }\n",
       "</style>\n",
       "<table border=\"1\" class=\"dataframe\">\n",
       "  <thead>\n",
       "    <tr style=\"text-align: right;\">\n",
       "      <th></th>\n",
       "      <th>product_id</th>\n",
       "      <th>Business Unit</th>\n",
       "      <th>Business Group</th>\n",
       "      <th>Major Product Group</th>\n",
       "      <th>Product Group</th>\n",
       "      <th>lineage</th>\n",
       "      <th>monthly_date</th>\n",
       "      <th>month</th>\n",
       "      <th>avg_map_discount</th>\n",
       "      <th>discount_avg</th>\n",
       "      <th>price</th>\n",
       "      <th>days_discount</th>\n",
       "      <th>days_map_discount</th>\n",
       "      <th>sell_in_qty</th>\n",
       "      <th>requested_qty</th>\n",
       "      <th>discount_max</th>\n",
       "      <th>max_map_discount</th>\n",
       "    </tr>\n",
       "  </thead>\n",
       "  <tbody>\n",
       "    <tr>\n",
       "      <th>0</th>\n",
       "      <td>534</td>\n",
       "      <td>2</td>\n",
       "      <td>9052</td>\n",
       "      <td>E43</td>\n",
       "      <td>3199</td>\n",
       "      <td>7131</td>\n",
       "      <td>2020-04-01</td>\n",
       "      <td>4</td>\n",
       "      <td>0.0</td>\n",
       "      <td>0.0</td>\n",
       "      <td>66.86793</td>\n",
       "      <td>0.0</td>\n",
       "      <td>0.0</td>\n",
       "      <td>417.000000</td>\n",
       "      <td>507.000000</td>\n",
       "      <td>0.0</td>\n",
       "      <td>0.0</td>\n",
       "    </tr>\n",
       "    <tr>\n",
       "      <th>1</th>\n",
       "      <td>534</td>\n",
       "      <td>2</td>\n",
       "      <td>9052</td>\n",
       "      <td>E43</td>\n",
       "      <td>3199</td>\n",
       "      <td>7131</td>\n",
       "      <td>2019-12-01</td>\n",
       "      <td>12</td>\n",
       "      <td>0.0</td>\n",
       "      <td>0.0</td>\n",
       "      <td>66.86793</td>\n",
       "      <td>0.0</td>\n",
       "      <td>0.0</td>\n",
       "      <td>87.000000</td>\n",
       "      <td>87.000000</td>\n",
       "      <td>0.0</td>\n",
       "      <td>0.0</td>\n",
       "    </tr>\n",
       "    <tr>\n",
       "      <th>2</th>\n",
       "      <td>534</td>\n",
       "      <td>2</td>\n",
       "      <td>9052</td>\n",
       "      <td>E43</td>\n",
       "      <td>3199</td>\n",
       "      <td>7131</td>\n",
       "      <td>2020-02-01</td>\n",
       "      <td>2</td>\n",
       "      <td>0.0</td>\n",
       "      <td>0.0</td>\n",
       "      <td>66.86793</td>\n",
       "      <td>0.0</td>\n",
       "      <td>0.0</td>\n",
       "      <td>12.428571</td>\n",
       "      <td>27.857143</td>\n",
       "      <td>0.0</td>\n",
       "      <td>0.0</td>\n",
       "    </tr>\n",
       "    <tr>\n",
       "      <th>3</th>\n",
       "      <td>534</td>\n",
       "      <td>2</td>\n",
       "      <td>9052</td>\n",
       "      <td>E43</td>\n",
       "      <td>3199</td>\n",
       "      <td>7131</td>\n",
       "      <td>2020-03-01</td>\n",
       "      <td>3</td>\n",
       "      <td>0.0</td>\n",
       "      <td>0.0</td>\n",
       "      <td>66.86793</td>\n",
       "      <td>0.0</td>\n",
       "      <td>0.0</td>\n",
       "      <td>78.000000</td>\n",
       "      <td>102.000000</td>\n",
       "      <td>0.0</td>\n",
       "      <td>0.0</td>\n",
       "    </tr>\n",
       "    <tr>\n",
       "      <th>4</th>\n",
       "      <td>534</td>\n",
       "      <td>2</td>\n",
       "      <td>9052</td>\n",
       "      <td>E43</td>\n",
       "      <td>3199</td>\n",
       "      <td>7131</td>\n",
       "      <td>2019-11-01</td>\n",
       "      <td>11</td>\n",
       "      <td>0.0</td>\n",
       "      <td>0.0</td>\n",
       "      <td>66.86793</td>\n",
       "      <td>0.0</td>\n",
       "      <td>0.0</td>\n",
       "      <td>19.714286</td>\n",
       "      <td>23.142857</td>\n",
       "      <td>0.0</td>\n",
       "      <td>0.0</td>\n",
       "    </tr>\n",
       "  </tbody>\n",
       "</table>\n",
       "</div>"
      ],
      "text/plain": [
       "   product_id  Business Unit  Business Group Major Product Group  \\\n",
       "0         534              2            9052                 E43   \n",
       "1         534              2            9052                 E43   \n",
       "2         534              2            9052                 E43   \n",
       "3         534              2            9052                 E43   \n",
       "4         534              2            9052                 E43   \n",
       "\n",
       "   Product Group  lineage monthly_date  month  avg_map_discount  discount_avg  \\\n",
       "0           3199     7131   2020-04-01      4               0.0           0.0   \n",
       "1           3199     7131   2019-12-01     12               0.0           0.0   \n",
       "2           3199     7131   2020-02-01      2               0.0           0.0   \n",
       "3           3199     7131   2020-03-01      3               0.0           0.0   \n",
       "4           3199     7131   2019-11-01     11               0.0           0.0   \n",
       "\n",
       "      price  days_discount  days_map_discount  sell_in_qty  requested_qty  \\\n",
       "0  66.86793            0.0                0.0   417.000000     507.000000   \n",
       "1  66.86793            0.0                0.0    87.000000      87.000000   \n",
       "2  66.86793            0.0                0.0    12.428571      27.857143   \n",
       "3  66.86793            0.0                0.0    78.000000     102.000000   \n",
       "4  66.86793            0.0                0.0    19.714286      23.142857   \n",
       "\n",
       "   discount_max  max_map_discount  \n",
       "0           0.0               0.0  \n",
       "1           0.0               0.0  \n",
       "2           0.0               0.0  \n",
       "3           0.0               0.0  \n",
       "4           0.0               0.0  "
      ]
     },
     "execution_count": 2,
     "metadata": {},
     "output_type": "execute_result"
    }
   ],
   "source": [
    "#Reading Data \n",
    "\n",
    "df = pd.read_csv('one_bu_test_train_dataset.csv')\n",
    "df['monthly_date'] = pd.to_datetime(df['monthly_date'])\n",
    "df.head()"
   ]
  },
  {
   "cell_type": "code",
   "execution_count": 3,
   "id": "418c9674",
   "metadata": {
    "execution": {
     "iopub.execute_input": "2022-01-31T03:42:00.707754Z",
     "iopub.status.busy": "2022-01-31T03:42:00.707454Z",
     "iopub.status.idle": "2022-01-31T03:42:00.741218Z",
     "shell.execute_reply": "2022-01-31T03:42:00.740279Z",
     "shell.execute_reply.started": "2022-01-31T03:42:00.707709Z"
    }
   },
   "outputs": [
    {
     "name": "stdout",
     "output_type": "stream",
     "text": [
      "(477, 3)\n"
     ]
    },
    {
     "data": {
      "text/html": [
       "<div>\n",
       "<style scoped>\n",
       "    .dataframe tbody tr th:only-of-type {\n",
       "        vertical-align: middle;\n",
       "    }\n",
       "\n",
       "    .dataframe tbody tr th {\n",
       "        vertical-align: top;\n",
       "    }\n",
       "\n",
       "    .dataframe thead th {\n",
       "        text-align: right;\n",
       "    }\n",
       "</style>\n",
       "<table border=\"1\" class=\"dataframe\">\n",
       "  <thead>\n",
       "    <tr style=\"text-align: right;\">\n",
       "      <th></th>\n",
       "      <th>Product Group</th>\n",
       "      <th>monthly_date</th>\n",
       "      <th>requested_qty</th>\n",
       "      <th>prod_group</th>\n",
       "    </tr>\n",
       "  </thead>\n",
       "  <tbody>\n",
       "    <tr>\n",
       "      <th>0</th>\n",
       "      <td>3108</td>\n",
       "      <td>2017-12-01</td>\n",
       "      <td>4.285714</td>\n",
       "      <td>P3108</td>\n",
       "    </tr>\n",
       "    <tr>\n",
       "      <th>1</th>\n",
       "      <td>3108</td>\n",
       "      <td>2018-01-01</td>\n",
       "      <td>267.428571</td>\n",
       "      <td>P3108</td>\n",
       "    </tr>\n",
       "    <tr>\n",
       "      <th>2</th>\n",
       "      <td>3108</td>\n",
       "      <td>2018-02-01</td>\n",
       "      <td>640.285714</td>\n",
       "      <td>P3108</td>\n",
       "    </tr>\n",
       "    <tr>\n",
       "      <th>3</th>\n",
       "      <td>3108</td>\n",
       "      <td>2018-03-01</td>\n",
       "      <td>186.000000</td>\n",
       "      <td>P3108</td>\n",
       "    </tr>\n",
       "    <tr>\n",
       "      <th>4</th>\n",
       "      <td>3182</td>\n",
       "      <td>2017-12-01</td>\n",
       "      <td>115.428571</td>\n",
       "      <td>P3182</td>\n",
       "    </tr>\n",
       "  </tbody>\n",
       "</table>\n",
       "</div>"
      ],
      "text/plain": [
       "   Product Group monthly_date  requested_qty prod_group\n",
       "0           3108   2017-12-01       4.285714      P3108\n",
       "1           3108   2018-01-01     267.428571      P3108\n",
       "2           3108   2018-02-01     640.285714      P3108\n",
       "3           3108   2018-03-01     186.000000      P3108\n",
       "4           3182   2017-12-01     115.428571      P3182"
      ]
     },
     "execution_count": 3,
     "metadata": {},
     "output_type": "execute_result"
    }
   ],
   "source": [
    "#Product group wise analysis\n",
    "prod_group_df = pd.DataFrame(df.groupby(['Product Group','monthly_date']).sum())[['requested_qty']]\n",
    "prod_group_df.reset_index(inplace=True)\n",
    "print(prod_group_df.shape)\n",
    "prod_group_df['prod_group'] = 'P' + prod_group_df['Product Group'].astype(str)\n",
    "prod_group_df.head()"
   ]
  },
  {
   "cell_type": "code",
   "execution_count": 4,
   "id": "33194917",
   "metadata": {
    "execution": {
     "iopub.execute_input": "2022-01-31T03:42:00.742887Z",
     "iopub.status.busy": "2022-01-31T03:42:00.742596Z",
     "iopub.status.idle": "2022-01-31T03:42:00.780254Z",
     "shell.execute_reply": "2022-01-31T03:42:00.779318Z",
     "shell.execute_reply.started": "2022-01-31T03:42:00.742859Z"
    }
   },
   "outputs": [
    {
     "name": "stdout",
     "output_type": "stream",
     "text": [
      "(32, 16)\n"
     ]
    },
    {
     "data": {
      "text/html": [
       "<div>\n",
       "<style scoped>\n",
       "    .dataframe tbody tr th:only-of-type {\n",
       "        vertical-align: middle;\n",
       "    }\n",
       "\n",
       "    .dataframe tbody tr th {\n",
       "        vertical-align: top;\n",
       "    }\n",
       "\n",
       "    .dataframe thead th {\n",
       "        text-align: right;\n",
       "    }\n",
       "</style>\n",
       "<table border=\"1\" class=\"dataframe\">\n",
       "  <thead>\n",
       "    <tr style=\"text-align: right;\">\n",
       "      <th>prod_group</th>\n",
       "      <th>P3108</th>\n",
       "      <th>P3182</th>\n",
       "      <th>P3183</th>\n",
       "      <th>P3184</th>\n",
       "      <th>P3185</th>\n",
       "      <th>P3186</th>\n",
       "      <th>P3187</th>\n",
       "      <th>P3188</th>\n",
       "      <th>P3190</th>\n",
       "      <th>P3192</th>\n",
       "      <th>P3199</th>\n",
       "      <th>P5849</th>\n",
       "      <th>P7745</th>\n",
       "      <th>P7746</th>\n",
       "      <th>P7756</th>\n",
       "      <th>P7757</th>\n",
       "    </tr>\n",
       "    <tr>\n",
       "      <th>monthly_date</th>\n",
       "      <th></th>\n",
       "      <th></th>\n",
       "      <th></th>\n",
       "      <th></th>\n",
       "      <th></th>\n",
       "      <th></th>\n",
       "      <th></th>\n",
       "      <th></th>\n",
       "      <th></th>\n",
       "      <th></th>\n",
       "      <th></th>\n",
       "      <th></th>\n",
       "      <th></th>\n",
       "      <th></th>\n",
       "      <th></th>\n",
       "      <th></th>\n",
       "    </tr>\n",
       "  </thead>\n",
       "  <tbody>\n",
       "    <tr>\n",
       "      <th>2017-12-01</th>\n",
       "      <td>4.285714</td>\n",
       "      <td>115.428571</td>\n",
       "      <td>26.428571</td>\n",
       "      <td>331.142857</td>\n",
       "      <td>1126.857143</td>\n",
       "      <td>404.000000</td>\n",
       "      <td>1768.714286</td>\n",
       "      <td>58.428571</td>\n",
       "      <td>625.714286</td>\n",
       "      <td>1580.571429</td>\n",
       "      <td>NaN</td>\n",
       "      <td>34.285714</td>\n",
       "      <td>393.714286</td>\n",
       "      <td>268.714286</td>\n",
       "      <td>2.142857</td>\n",
       "      <td>NaN</td>\n",
       "    </tr>\n",
       "    <tr>\n",
       "      <th>2018-01-01</th>\n",
       "      <td>267.428571</td>\n",
       "      <td>2476.000000</td>\n",
       "      <td>759.142857</td>\n",
       "      <td>10429.142858</td>\n",
       "      <td>52777.142856</td>\n",
       "      <td>10429.714286</td>\n",
       "      <td>86082.000000</td>\n",
       "      <td>9399.571429</td>\n",
       "      <td>34012.000000</td>\n",
       "      <td>90730.285717</td>\n",
       "      <td>385.714286</td>\n",
       "      <td>893.142857</td>\n",
       "      <td>16299.428571</td>\n",
       "      <td>16396.285714</td>\n",
       "      <td>423.000000</td>\n",
       "      <td>12.0</td>\n",
       "    </tr>\n",
       "    <tr>\n",
       "      <th>2018-02-01</th>\n",
       "      <td>640.285714</td>\n",
       "      <td>2553.285715</td>\n",
       "      <td>1052.571429</td>\n",
       "      <td>12265.428572</td>\n",
       "      <td>64646.571430</td>\n",
       "      <td>16635.428569</td>\n",
       "      <td>106426.571427</td>\n",
       "      <td>19292.714289</td>\n",
       "      <td>58887.714286</td>\n",
       "      <td>114115.428567</td>\n",
       "      <td>528.428571</td>\n",
       "      <td>725.142857</td>\n",
       "      <td>20712.571429</td>\n",
       "      <td>25103.142855</td>\n",
       "      <td>1014.428571</td>\n",
       "      <td>21.0</td>\n",
       "    </tr>\n",
       "    <tr>\n",
       "      <th>2018-03-01</th>\n",
       "      <td>186.000000</td>\n",
       "      <td>119.285714</td>\n",
       "      <td>510.857143</td>\n",
       "      <td>10920.285715</td>\n",
       "      <td>80462.428566</td>\n",
       "      <td>18606.857143</td>\n",
       "      <td>51941.714286</td>\n",
       "      <td>12505.285714</td>\n",
       "      <td>52734.857143</td>\n",
       "      <td>66789.142859</td>\n",
       "      <td>879.857143</td>\n",
       "      <td>663.428571</td>\n",
       "      <td>20656.285714</td>\n",
       "      <td>21408.714286</td>\n",
       "      <td>643.428571</td>\n",
       "      <td>0.0</td>\n",
       "    </tr>\n",
       "    <tr>\n",
       "      <th>2018-04-01</th>\n",
       "      <td>NaN</td>\n",
       "      <td>477.142857</td>\n",
       "      <td>574.428571</td>\n",
       "      <td>16731.714286</td>\n",
       "      <td>63701.857142</td>\n",
       "      <td>10749.142860</td>\n",
       "      <td>56608.285714</td>\n",
       "      <td>4377.285714</td>\n",
       "      <td>41340.285715</td>\n",
       "      <td>77774.571434</td>\n",
       "      <td>939.857143</td>\n",
       "      <td>363.428571</td>\n",
       "      <td>24792.857142</td>\n",
       "      <td>8959.714286</td>\n",
       "      <td>1004.285714</td>\n",
       "      <td>0.0</td>\n",
       "    </tr>\n",
       "  </tbody>\n",
       "</table>\n",
       "</div>"
      ],
      "text/plain": [
       "prod_group         P3108        P3182        P3183         P3184  \\\n",
       "monthly_date                                                       \n",
       "2017-12-01      4.285714   115.428571    26.428571    331.142857   \n",
       "2018-01-01    267.428571  2476.000000   759.142857  10429.142858   \n",
       "2018-02-01    640.285714  2553.285715  1052.571429  12265.428572   \n",
       "2018-03-01    186.000000   119.285714   510.857143  10920.285715   \n",
       "2018-04-01           NaN   477.142857   574.428571  16731.714286   \n",
       "\n",
       "prod_group           P3185         P3186          P3187         P3188  \\\n",
       "monthly_date                                                            \n",
       "2017-12-01     1126.857143    404.000000    1768.714286     58.428571   \n",
       "2018-01-01    52777.142856  10429.714286   86082.000000   9399.571429   \n",
       "2018-02-01    64646.571430  16635.428569  106426.571427  19292.714289   \n",
       "2018-03-01    80462.428566  18606.857143   51941.714286  12505.285714   \n",
       "2018-04-01    63701.857142  10749.142860   56608.285714   4377.285714   \n",
       "\n",
       "prod_group           P3190          P3192       P3199       P5849  \\\n",
       "monthly_date                                                        \n",
       "2017-12-01      625.714286    1580.571429         NaN   34.285714   \n",
       "2018-01-01    34012.000000   90730.285717  385.714286  893.142857   \n",
       "2018-02-01    58887.714286  114115.428567  528.428571  725.142857   \n",
       "2018-03-01    52734.857143   66789.142859  879.857143  663.428571   \n",
       "2018-04-01    41340.285715   77774.571434  939.857143  363.428571   \n",
       "\n",
       "prod_group           P7745         P7746        P7756  P7757  \n",
       "monthly_date                                                  \n",
       "2017-12-01      393.714286    268.714286     2.142857    NaN  \n",
       "2018-01-01    16299.428571  16396.285714   423.000000   12.0  \n",
       "2018-02-01    20712.571429  25103.142855  1014.428571   21.0  \n",
       "2018-03-01    20656.285714  21408.714286   643.428571    0.0  \n",
       "2018-04-01    24792.857142   8959.714286  1004.285714    0.0  "
      ]
     },
     "execution_count": 4,
     "metadata": {},
     "output_type": "execute_result"
    }
   ],
   "source": [
    "prod_df = prod_group_df.pivot_table(index='monthly_date',columns=['prod_group'],values='requested_qty')\n",
    "print(prod_df.shape)\n",
    "prod_df.head()"
   ]
  },
  {
   "cell_type": "markdown",
   "id": "e9e7dc9e",
   "metadata": {},
   "source": [
    "### Filling missing values"
   ]
  },
  {
   "cell_type": "code",
   "execution_count": 5,
   "id": "0ff04da0",
   "metadata": {
    "execution": {
     "iopub.execute_input": "2022-01-31T03:42:00.781797Z",
     "iopub.status.busy": "2022-01-31T03:42:00.781528Z",
     "iopub.status.idle": "2022-01-31T03:42:00.785576Z",
     "shell.execute_reply": "2022-01-31T03:42:00.784588Z",
     "shell.execute_reply.started": "2022-01-31T03:42:00.781769Z"
    }
   },
   "outputs": [],
   "source": [
    "# we can use either forward filling or back filling for handling missing values. Note that this could also be\n",
    "# mean/median/mode and more knowledge about followed best practices is required to choose one or the other\n"
   ]
  },
  {
   "cell_type": "markdown",
   "id": "495b05a8",
   "metadata": {},
   "source": [
    "## Time Series Analysis"
   ]
  },
  {
   "cell_type": "code",
   "execution_count": null,
   "id": "653a39e8",
   "metadata": {},
   "outputs": [],
   "source": [
    "# we are running the analysis for 1 product at a time. We select a random Product group 3185"
   ]
  },
  {
   "cell_type": "code",
   "execution_count": 21,
   "id": "04819492",
   "metadata": {
    "execution": {
     "iopub.execute_input": "2022-01-31T04:10:00.231710Z",
     "iopub.status.busy": "2022-01-31T04:10:00.231411Z",
     "iopub.status.idle": "2022-01-31T04:10:00.241754Z",
     "shell.execute_reply": "2022-01-31T04:10:00.240959Z",
     "shell.execute_reply.started": "2022-01-31T04:10:00.231681Z"
    }
   },
   "outputs": [
    {
     "data": {
      "text/html": [
       "<div>\n",
       "<style scoped>\n",
       "    .dataframe tbody tr th:only-of-type {\n",
       "        vertical-align: middle;\n",
       "    }\n",
       "\n",
       "    .dataframe tbody tr th {\n",
       "        vertical-align: top;\n",
       "    }\n",
       "\n",
       "    .dataframe thead th {\n",
       "        text-align: right;\n",
       "    }\n",
       "</style>\n",
       "<table border=\"1\" class=\"dataframe\">\n",
       "  <thead>\n",
       "    <tr style=\"text-align: right;\">\n",
       "      <th></th>\n",
       "      <th>P3185</th>\n",
       "    </tr>\n",
       "    <tr>\n",
       "      <th>monthly_date</th>\n",
       "      <th></th>\n",
       "    </tr>\n",
       "  </thead>\n",
       "  <tbody>\n",
       "    <tr>\n",
       "      <th>2017-12-01</th>\n",
       "      <td>1126.857143</td>\n",
       "    </tr>\n",
       "    <tr>\n",
       "      <th>2018-01-01</th>\n",
       "      <td>52777.142856</td>\n",
       "    </tr>\n",
       "    <tr>\n",
       "      <th>2018-02-01</th>\n",
       "      <td>64646.571430</td>\n",
       "    </tr>\n",
       "    <tr>\n",
       "      <th>2018-03-01</th>\n",
       "      <td>80462.428566</td>\n",
       "    </tr>\n",
       "    <tr>\n",
       "      <th>2018-04-01</th>\n",
       "      <td>63701.857142</td>\n",
       "    </tr>\n",
       "  </tbody>\n",
       "</table>\n",
       "</div>"
      ],
      "text/plain": [
       "                     P3185\n",
       "monthly_date              \n",
       "2017-12-01     1126.857143\n",
       "2018-01-01    52777.142856\n",
       "2018-02-01    64646.571430\n",
       "2018-03-01    80462.428566\n",
       "2018-04-01    63701.857142"
      ]
     },
     "execution_count": 21,
     "metadata": {},
     "output_type": "execute_result"
    }
   ],
   "source": [
    "prod_P3185 = prod_df['P3185'].to_frame()\n",
    "prod_P3185 = prod_P3185.head(30)\n",
    "prod_P3185.head()"
   ]
  },
  {
   "cell_type": "markdown",
   "id": "dfffca38",
   "metadata": {},
   "source": [
    "### Stationarity"
   ]
  },
  {
   "cell_type": "markdown",
   "id": "d1a69ce0",
   "metadata": {},
   "source": [
    "Dickey-Fuller Test: This is one of the statistical tests for checking stationarity. Here the null hypothesis is that the Time Series is non-stationary. The test results comprise of a Test Statistic and some Critical Values for difference confidence levels. If the ‘Test Statistic’ is less than the ‘Critical Value’, we can reject the null hypothesis and say that the series is stationary."
   ]
  },
  {
   "cell_type": "code",
   "execution_count": 10,
   "id": "c2cbb9ce",
   "metadata": {
    "execution": {
     "iopub.execute_input": "2022-01-31T03:53:20.070403Z",
     "iopub.status.busy": "2022-01-31T03:53:20.070099Z",
     "iopub.status.idle": "2022-01-31T03:53:20.084034Z",
     "shell.execute_reply": "2022-01-31T03:53:20.083073Z",
     "shell.execute_reply.started": "2022-01-31T03:53:20.070373Z"
    }
   },
   "outputs": [
    {
     "data": {
      "text/plain": [
       "(-2.842003467001444,\n",
       " 0.0525198322388889,\n",
       " 1,\n",
       " 30,\n",
       " {'1%': -3.6699197407407405,\n",
       "  '5%': -2.9640707407407407,\n",
       "  '10%': -2.621171111111111},\n",
       " 486.83345646763627)"
      ]
     },
     "execution_count": 10,
     "metadata": {},
     "output_type": "execute_result"
    }
   ],
   "source": [
    "sts.adfuller(prod_P3185.P3185)"
   ]
  },
  {
   "cell_type": "markdown",
   "id": "cb9af03d",
   "metadata": {},
   "source": [
    "For 10% significance we see that our TS P3185 requested quantity has t-statistic less than 10% critical value and p-value is significant indicating stationarity.\n",
    "\n",
    "*NOTE If the time series is not stationary then we could apply the differencing factor on the records and see if the graph of the time series is a stationary overtime period, not required in this case"
   ]
  },
  {
   "cell_type": "markdown",
   "id": "2179beeb",
   "metadata": {},
   "source": [
    "### Seasonality"
   ]
  },
  {
   "cell_type": "markdown",
   "id": "f7e960e0",
   "metadata": {},
   "source": [
    "Decomposing time series into 3 parts - \n",
    "1. trend (pattern)\n",
    "2. seasonal (cyclical effects)\n",
    "3. residual (error of prediction, actual Vs predicted)\n",
    "\n",
    "Simplest way is Naive Decomposition where expect linear relationship between 3 parts and Time series"
   ]
  },
  {
   "cell_type": "code",
   "execution_count": 25,
   "id": "92969fd7",
   "metadata": {
    "execution": {
     "iopub.execute_input": "2022-01-31T04:13:11.684869Z",
     "iopub.status.busy": "2022-01-31T04:13:11.684555Z",
     "iopub.status.idle": "2022-01-31T04:13:12.346993Z",
     "shell.execute_reply": "2022-01-31T04:13:12.346138Z",
     "shell.execute_reply.started": "2022-01-31T04:13:11.684842Z"
    }
   },
   "outputs": [
    {
     "data": {
      "image/png": "[encoded data removed]",
      "text/plain": [
       "<Figure size 432x288 with 4 Axes>"
      ]
     },
     "metadata": {
      "needs_background": "light"
     },
     "output_type": "display_data"
    },
    {
     "data": {
      "text/plain": [
       "<Figure size 1800x1224 with 0 Axes>"
      ]
     },
     "metadata": {},
     "output_type": "display_data"
    }
   ],
   "source": [
    "s_dec_multiplicative = seasonal_decompose(prod_P3185.P3185, model = \"additive\")\n",
    "s_dec_multiplicative.plot()\n",
    "plt.figure(figsize=(25,17))\n",
    "plt.show()"
   ]
  },
  {
   "cell_type": "markdown",
   "id": "662780b0",
   "metadata": {},
   "source": [
    "From the above output, we can see clear seasonal effects on requested qty"
   ]
  },
  {
   "cell_type": "markdown",
   "id": "d564f27e",
   "metadata": {
    "execution": {
     "iopub.execute_input": "2022-01-31T04:21:05.888523Z",
     "iopub.status.busy": "2022-01-31T04:21:05.888211Z",
     "iopub.status.idle": "2022-01-31T04:21:05.894487Z",
     "shell.execute_reply": "2022-01-31T04:21:05.893104Z",
     "shell.execute_reply.started": "2022-01-31T04:21:05.888494Z"
    }
   },
   "source": [
    "### ACF Auto Correlation factor : The correlation between sequence and itself"
   ]
  },
  {
   "cell_type": "code",
   "execution_count": 28,
   "id": "11b1a1a4",
   "metadata": {
    "execution": {
     "iopub.execute_input": "2022-01-31T04:22:03.962988Z",
     "iopub.status.busy": "2022-01-31T04:22:03.962662Z",
     "iopub.status.idle": "2022-01-31T04:22:04.137608Z",
     "shell.execute_reply": "2022-01-31T04:22:04.136594Z",
     "shell.execute_reply.started": "2022-01-31T04:22:03.962958Z"
    }
   },
   "outputs": [
    {
     "data": {
      "image/png": "[encoded data removed]",
      "text/plain": [
       "<Figure size 432x288 with 1 Axes>"
      ]
     },
     "metadata": {
      "needs_background": "light"
     },
     "output_type": "display_data"
    }
   ],
   "source": [
    "sgt.plot_acf(prod_P3185.P3185, lags = 29, zero = False)\n",
    "plt.title(\"ACF\", size = 24)\n",
    "plt.show()"
   ]
  },
  {
   "cell_type": "markdown",
   "id": "d8da2da9",
   "metadata": {},
   "source": [
    "From the ACF plot we establish values only from 1 period lag serve as decent estimator for next period. Rest of the lag periods values are not significant"
   ]
  },
  {
   "cell_type": "code",
   "execution_count": 30,
   "id": "1556528e",
   "metadata": {
    "execution": {
     "iopub.execute_input": "2022-01-31T04:29:43.254224Z",
     "iopub.status.busy": "2022-01-31T04:29:43.253913Z",
     "iopub.status.idle": "2022-01-31T04:29:43.413692Z",
     "shell.execute_reply": "2022-01-31T04:29:43.412609Z",
     "shell.execute_reply.started": "2022-01-31T04:29:43.254195Z"
    }
   },
   "outputs": [
    {
     "data": {
      "image/png": "[encoded data removed]",
      "text/plain": [
       "<Figure size 432x288 with 1 Axes>"
      ]
     },
     "metadata": {
      "needs_background": "light"
     },
     "output_type": "display_data"
    }
   ],
   "source": [
    "sgt.plot_pacf(prod_P3185.P3185, lags = 14, zero = False, method = ('ols'))\n",
    "plt.title(\"PACF\", size = 24)\n",
    "plt.show()"
   ]
  },
  {
   "cell_type": "markdown",
   "id": "4c14d33c",
   "metadata": {},
   "source": [
    "Interesting to see first lag and 12th lag has significant values"
   ]
  },
  {
   "cell_type": "markdown",
   "id": "88455101",
   "metadata": {},
   "source": [
    "# Most appropriate model?"
   ]
  },
  {
   "cell_type": "markdown",
   "id": "c4b53598",
   "metadata": {},
   "source": [
    "Using the results from ACF and PACF plots, we try to find the simplest model with significant coefficients. we will do log-likelihood ratio test to differenciate between 2 models which is better (lower AIC, BIC)\n",
    "\n",
    "**Auto Regressive models works best with Stationary TS, so we begin testing with them"
   ]
  },
  {
   "cell_type": "markdown",
   "id": "dc1f9bc2",
   "metadata": {},
   "source": [
    "## AR(1) Model"
   ]
  },
  {
   "cell_type": "code",
   "execution_count": 32,
   "id": "2340fc39",
   "metadata": {
    "execution": {
     "iopub.execute_input": "2022-01-31T05:00:47.209126Z",
     "iopub.status.busy": "2022-01-31T05:00:47.208787Z",
     "iopub.status.idle": "2022-01-31T05:00:47.216641Z",
     "shell.execute_reply": "2022-01-31T05:00:47.215707Z",
     "shell.execute_reply.started": "2022-01-31T05:00:47.209091Z"
    }
   },
   "outputs": [
    {
     "name": "stderr",
     "output_type": "stream",
     "text": [
      "/opt/conda/envs/python3/lib/python3.6/site-packages/statsmodels/tsa/arima_model.py:472: FutureWarning: \n",
      "statsmodels.tsa.arima_model.ARMA and statsmodels.tsa.arima_model.ARIMA have\n",
      "been deprecated in favor of statsmodels.tsa.arima.model.ARIMA (note the .\n",
      "between arima and model) and\n",
      "statsmodels.tsa.SARIMAX. These will be removed after the 0.12 release.\n",
      "\n",
      "statsmodels.tsa.arima.model.ARIMA makes use of the statespace framework and\n",
      "is both well tested and maintained.\n",
      "\n",
      "To silence this warning and continue using ARMA and ARIMA until they are\n",
      "removed, use:\n",
      "\n",
      "import warnings\n",
      "warnings.filterwarnings('ignore', 'statsmodels.tsa.arima_model.ARMA',\n",
      "                        FutureWarning)\n",
      "warnings.filterwarnings('ignore', 'statsmodels.tsa.arima_model.ARIMA',\n",
      "                        FutureWarning)\n",
      "\n",
      "  warnings.warn(ARIMA_DEPRECATION_WARN, FutureWarning)\n",
      "/opt/conda/envs/python3/lib/python3.6/site-packages/statsmodels/tsa/base/tsa_model.py:527: ValueWarning: No frequency information was provided, so inferred frequency MS will be used.\n",
      "  % freq, ValueWarning)\n"
     ]
    }
   ],
   "source": [
    "model_ar = ARMA(prod_P3185.P3185, order=(1,0))"
   ]
  },
  {
   "cell_type": "code",
   "execution_count": 33,
   "id": "63d50991",
   "metadata": {
    "execution": {
     "iopub.execute_input": "2022-01-31T05:01:00.811642Z",
     "iopub.status.busy": "2022-01-31T05:01:00.811362Z",
     "iopub.status.idle": "2022-01-31T05:01:00.903867Z",
     "shell.execute_reply": "2022-01-31T05:01:00.903000Z",
     "shell.execute_reply.started": "2022-01-31T05:01:00.811615Z"
    }
   },
   "outputs": [],
   "source": [
    "results_ar = model_ar.fit()"
   ]
  },
  {
   "cell_type": "code",
   "execution_count": 34,
   "id": "919d227d",
   "metadata": {
    "execution": {
     "iopub.execute_input": "2022-01-31T05:01:10.186530Z",
     "iopub.status.busy": "2022-01-31T05:01:10.186236Z",
     "iopub.status.idle": "2022-01-31T05:01:10.203872Z",
     "shell.execute_reply": "2022-01-31T05:01:10.202940Z",
     "shell.execute_reply.started": "2022-01-31T05:01:10.186495Z"
    }
   },
   "outputs": [
    {
     "data": {
      "text/html": [
       "<table class=\"simpletable\">\n",
       "<caption>ARMA Model Results</caption>\n",
       "<tr>\n",
       "  <th>Dep. Variable:</th>       <td>P3185</td>      <th>  No. Observations:  </th>    <td>30</td>    \n",
       "</tr>\n",
       "<tr>\n",
       "  <th>Model:</th>            <td>ARMA(1, 0)</td>    <th>  Log Likelihood     </th> <td>-340.451</td> \n",
       "</tr>\n",
       "<tr>\n",
       "  <th>Method:</th>             <td>css-mle</td>     <th>  S.D. of innovations</th> <td>20354.689</td>\n",
       "</tr>\n",
       "<tr>\n",
       "  <th>Date:</th>          <td>Mon, 31 Jan 2022</td> <th>  AIC                </th>  <td>686.902</td> \n",
       "</tr>\n",
       "<tr>\n",
       "  <th>Time:</th>              <td>05:01:10</td>     <th>  BIC                </th>  <td>691.106</td> \n",
       "</tr>\n",
       "<tr>\n",
       "  <th>Sample:</th>           <td>12-01-2017</td>    <th>  HQIC               </th>  <td>688.247</td> \n",
       "</tr>\n",
       "<tr>\n",
       "  <th></th>                 <td>- 05-01-2020</td>   <th>                     </th>     <td> </td>    \n",
       "</tr>\n",
       "</table>\n",
       "<table class=\"simpletable\">\n",
       "<tr>\n",
       "       <td></td>          <th>coef</th>     <th>std err</th>      <th>z</th>      <th>P>|z|</th>  <th>[0.025</th>    <th>0.975]</th>  \n",
       "</tr>\n",
       "<tr>\n",
       "  <th>const</th>       <td> 5.532e+04</td> <td> 9590.616</td> <td>    5.768</td> <td> 0.000</td> <td> 3.65e+04</td> <td> 7.41e+04</td>\n",
       "</tr>\n",
       "<tr>\n",
       "  <th>ar.L1.P3185</th> <td>    0.6282</td> <td>    0.154</td> <td>    4.072</td> <td> 0.000</td> <td>    0.326</td> <td>    0.931</td>\n",
       "</tr>\n",
       "</table>\n",
       "<table class=\"simpletable\">\n",
       "<caption>Roots</caption>\n",
       "<tr>\n",
       "    <td></td>   <th>            Real</th>  <th>         Imaginary</th> <th>         Modulus</th>  <th>        Frequency</th>\n",
       "</tr>\n",
       "<tr>\n",
       "  <th>AR.1</th> <td>           1.5917</td> <td>          +0.0000j</td> <td>           1.5917</td> <td>           0.0000</td>\n",
       "</tr>\n",
       "</table>"
      ],
      "text/plain": [
       "<class 'statsmodels.iolib.summary.Summary'>\n",
       "\"\"\"\n",
       "                              ARMA Model Results                              \n",
       "==============================================================================\n",
       "Dep. Variable:                  P3185   No. Observations:                   30\n",
       "Model:                     ARMA(1, 0)   Log Likelihood                -340.451\n",
       "Method:                       css-mle   S.D. of innovations          20354.689\n",
       "Date:                Mon, 31 Jan 2022   AIC                            686.902\n",
       "Time:                        05:01:10   BIC                            691.106\n",
       "Sample:                    12-01-2017   HQIC                           688.247\n",
       "                         - 05-01-2020                                         \n",
       "===============================================================================\n",
       "                  coef    std err          z      P>|z|      [0.025      0.975]\n",
       "-------------------------------------------------------------------------------\n",
       "const        5.532e+04   9590.616      5.768      0.000    3.65e+04    7.41e+04\n",
       "ar.L1.P3185     0.6282      0.154      4.072      0.000       0.326       0.931\n",
       "                                    Roots                                    \n",
       "=============================================================================\n",
       "                  Real          Imaginary           Modulus         Frequency\n",
       "-----------------------------------------------------------------------------\n",
       "AR.1            1.5917           +0.0000j            1.5917            0.0000\n",
       "-----------------------------------------------------------------------------\n",
       "\"\"\""
      ]
     },
     "execution_count": 34,
     "metadata": {},
     "output_type": "execute_result"
    }
   ],
   "source": [
    "results_ar.summary()"
   ]
  },
  {
   "cell_type": "markdown",
   "id": "afc126c9",
   "metadata": {},
   "source": [
    "### Interpretation :\n",
    "Both const and ar.L1.P3185 coefficients have p-value 0. Meaning they are significant. We can try fitting complex model to see if it improves fit (do note we don't want to overfit our model)"
   ]
  },
  {
   "cell_type": "markdown",
   "id": "c7186190",
   "metadata": {},
   "source": [
    "## Higher-Lag AR Models"
   ]
  },
  {
   "cell_type": "code",
   "execution_count": 35,
   "id": "5491da3b",
   "metadata": {
    "execution": {
     "iopub.execute_input": "2022-01-31T05:06:11.333572Z",
     "iopub.status.busy": "2022-01-31T05:06:11.333274Z",
     "iopub.status.idle": "2022-01-31T05:06:11.483901Z",
     "shell.execute_reply": "2022-01-31T05:06:11.483047Z",
     "shell.execute_reply.started": "2022-01-31T05:06:11.333544Z"
    }
   },
   "outputs": [
    {
     "name": "stderr",
     "output_type": "stream",
     "text": [
      "/opt/conda/envs/python3/lib/python3.6/site-packages/statsmodels/tsa/arima_model.py:472: FutureWarning: \n",
      "statsmodels.tsa.arima_model.ARMA and statsmodels.tsa.arima_model.ARIMA have\n",
      "been deprecated in favor of statsmodels.tsa.arima.model.ARIMA (note the .\n",
      "between arima and model) and\n",
      "statsmodels.tsa.SARIMAX. These will be removed after the 0.12 release.\n",
      "\n",
      "statsmodels.tsa.arima.model.ARIMA makes use of the statespace framework and\n",
      "is both well tested and maintained.\n",
      "\n",
      "To silence this warning and continue using ARMA and ARIMA until they are\n",
      "removed, use:\n",
      "\n",
      "import warnings\n",
      "warnings.filterwarnings('ignore', 'statsmodels.tsa.arima_model.ARMA',\n",
      "                        FutureWarning)\n",
      "warnings.filterwarnings('ignore', 'statsmodels.tsa.arima_model.ARIMA',\n",
      "                        FutureWarning)\n",
      "\n",
      "  warnings.warn(ARIMA_DEPRECATION_WARN, FutureWarning)\n",
      "/opt/conda/envs/python3/lib/python3.6/site-packages/statsmodels/tsa/base/tsa_model.py:527: ValueWarning: No frequency information was provided, so inferred frequency MS will be used.\n",
      "  % freq, ValueWarning)\n"
     ]
    },
    {
     "data": {
      "text/html": [
       "<table class=\"simpletable\">\n",
       "<caption>ARMA Model Results</caption>\n",
       "<tr>\n",
       "  <th>Dep. Variable:</th>       <td>P3185</td>      <th>  No. Observations:  </th>    <td>30</td>    \n",
       "</tr>\n",
       "<tr>\n",
       "  <th>Model:</th>            <td>ARMA(2, 0)</td>    <th>  Log Likelihood     </th> <td>-340.157</td> \n",
       "</tr>\n",
       "<tr>\n",
       "  <th>Method:</th>             <td>css-mle</td>     <th>  S.D. of innovations</th> <td>20137.394</td>\n",
       "</tr>\n",
       "<tr>\n",
       "  <th>Date:</th>          <td>Mon, 31 Jan 2022</td> <th>  AIC                </th>  <td>688.315</td> \n",
       "</tr>\n",
       "<tr>\n",
       "  <th>Time:</th>              <td>05:06:11</td>     <th>  BIC                </th>  <td>693.919</td> \n",
       "</tr>\n",
       "<tr>\n",
       "  <th>Sample:</th>           <td>12-01-2017</td>    <th>  HQIC               </th>  <td>690.108</td> \n",
       "</tr>\n",
       "<tr>\n",
       "  <th></th>                 <td>- 05-01-2020</td>   <th>                     </th>     <td> </td>    \n",
       "</tr>\n",
       "</table>\n",
       "<table class=\"simpletable\">\n",
       "<tr>\n",
       "       <td></td>          <th>coef</th>     <th>std err</th>      <th>z</th>      <th>P>|z|</th>  <th>[0.025</th>    <th>0.975]</th>  \n",
       "</tr>\n",
       "<tr>\n",
       "  <th>const</th>       <td> 5.536e+04</td> <td> 8344.844</td> <td>    6.634</td> <td> 0.000</td> <td>  3.9e+04</td> <td> 7.17e+04</td>\n",
       "</tr>\n",
       "<tr>\n",
       "  <th>ar.L1.P3185</th> <td>    0.7325</td> <td>    0.205</td> <td>    3.579</td> <td> 0.000</td> <td>    0.331</td> <td>    1.134</td>\n",
       "</tr>\n",
       "<tr>\n",
       "  <th>ar.L2.P3185</th> <td>   -0.1652</td> <td>    0.214</td> <td>   -0.772</td> <td> 0.440</td> <td>   -0.584</td> <td>    0.254</td>\n",
       "</tr>\n",
       "</table>\n",
       "<table class=\"simpletable\">\n",
       "<caption>Roots</caption>\n",
       "<tr>\n",
       "    <td></td>   <th>            Real</th>  <th>         Imaginary</th> <th>         Modulus</th>  <th>        Frequency</th>\n",
       "</tr>\n",
       "<tr>\n",
       "  <th>AR.1</th> <td>           2.2176</td> <td>          -1.0665j</td> <td>           2.4607</td> <td>          -0.0713</td>\n",
       "</tr>\n",
       "<tr>\n",
       "  <th>AR.2</th> <td>           2.2176</td> <td>          +1.0665j</td> <td>           2.4607</td> <td>           0.0713</td>\n",
       "</tr>\n",
       "</table>"
      ],
      "text/plain": [
       "<class 'statsmodels.iolib.summary.Summary'>\n",
       "\"\"\"\n",
       "                              ARMA Model Results                              \n",
       "==============================================================================\n",
       "Dep. Variable:                  P3185   No. Observations:                   30\n",
       "Model:                     ARMA(2, 0)   Log Likelihood                -340.157\n",
       "Method:                       css-mle   S.D. of innovations          20137.394\n",
       "Date:                Mon, 31 Jan 2022   AIC                            688.315\n",
       "Time:                        05:06:11   BIC                            693.919\n",
       "Sample:                    12-01-2017   HQIC                           690.108\n",
       "                         - 05-01-2020                                         \n",
       "===============================================================================\n",
       "                  coef    std err          z      P>|z|      [0.025      0.975]\n",
       "-------------------------------------------------------------------------------\n",
       "const        5.536e+04   8344.844      6.634      0.000     3.9e+04    7.17e+04\n",
       "ar.L1.P3185     0.7325      0.205      3.579      0.000       0.331       1.134\n",
       "ar.L2.P3185    -0.1652      0.214     -0.772      0.440      -0.584       0.254\n",
       "                                    Roots                                    \n",
       "=============================================================================\n",
       "                  Real          Imaginary           Modulus         Frequency\n",
       "-----------------------------------------------------------------------------\n",
       "AR.1            2.2176           -1.0665j            2.4607           -0.0713\n",
       "AR.2            2.2176           +1.0665j            2.4607            0.0713\n",
       "-----------------------------------------------------------------------------\n",
       "\"\"\""
      ]
     },
     "execution_count": 35,
     "metadata": {},
     "output_type": "execute_result"
    }
   ],
   "source": [
    "model_ar_2 = ARMA(prod_P3185.P3185, order=(2,0))\n",
    "results_ar_2 = model_ar_2.fit()\n",
    "results_ar_2.summary()"
   ]
  },
  {
   "cell_type": "markdown",
   "id": "47a24e58",
   "metadata": {},
   "source": [
    "## LLR Test"
   ]
  },
  {
   "cell_type": "code",
   "execution_count": 39,
   "id": "46891d18",
   "metadata": {
    "execution": {
     "iopub.execute_input": "2022-01-31T05:26:43.849947Z",
     "iopub.status.busy": "2022-01-31T05:26:43.849631Z",
     "iopub.status.idle": "2022-01-31T05:26:43.855344Z",
     "shell.execute_reply": "2022-01-31T05:26:43.854027Z",
     "shell.execute_reply.started": "2022-01-31T05:26:43.849919Z"
    }
   },
   "outputs": [],
   "source": [
    "def LLR_test(mod_1, mod_2, DF=1):\n",
    "    L1 = mod_1.fit().llf\n",
    "    L2 = mod_2.fit().llf\n",
    "    LR = (2*(L2-L1))\n",
    "    p = chi2.sf(LR, DF).round(3)\n",
    "    return p"
   ]
  },
  {
   "cell_type": "code",
   "execution_count": 40,
   "id": "df90fd3d",
   "metadata": {
    "execution": {
     "iopub.execute_input": "2022-01-31T05:26:45.754699Z",
     "iopub.status.busy": "2022-01-31T05:26:45.754403Z",
     "iopub.status.idle": "2022-01-31T05:26:45.970889Z",
     "shell.execute_reply": "2022-01-31T05:26:45.969971Z",
     "shell.execute_reply.started": "2022-01-31T05:26:45.754670Z"
    }
   },
   "outputs": [
    {
     "data": {
      "text/plain": [
       "0.443"
      ]
     },
     "execution_count": 40,
     "metadata": {},
     "output_type": "execute_result"
    }
   ],
   "source": [
    "LLR_test(model_ar, model_ar_2)"
   ]
  },
  {
   "cell_type": "markdown",
   "id": "3a5a63a3",
   "metadata": {},
   "source": [
    "The LLR suggest the more complex model AR2 is not significant, which we also observed in coefficients p-value. So we stick with simpler AR(1) model which was also suggested in ACF and PACF plots. Not trying more complex AR models"
   ]
  },
  {
   "cell_type": "markdown",
   "id": "a4c73b7d",
   "metadata": {},
   "source": [
    "## MA(1) Model"
   ]
  },
  {
   "cell_type": "code",
   "execution_count": 41,
   "id": "dca239cc",
   "metadata": {
    "execution": {
     "iopub.execute_input": "2022-01-31T05:41:20.554049Z",
     "iopub.status.busy": "2022-01-31T05:41:20.553725Z",
     "iopub.status.idle": "2022-01-31T05:41:20.606076Z",
     "shell.execute_reply": "2022-01-31T05:41:20.605070Z",
     "shell.execute_reply.started": "2022-01-31T05:41:20.554019Z"
    }
   },
   "outputs": [
    {
     "name": "stderr",
     "output_type": "stream",
     "text": [
      "/opt/conda/envs/python3/lib/python3.6/site-packages/statsmodels/tsa/arima_model.py:472: FutureWarning: \n",
      "statsmodels.tsa.arima_model.ARMA and statsmodels.tsa.arima_model.ARIMA have\n",
      "been deprecated in favor of statsmodels.tsa.arima.model.ARIMA (note the .\n",
      "between arima and model) and\n",
      "statsmodels.tsa.SARIMAX. These will be removed after the 0.12 release.\n",
      "\n",
      "statsmodels.tsa.arima.model.ARIMA makes use of the statespace framework and\n",
      "is both well tested and maintained.\n",
      "\n",
      "To silence this warning and continue using ARMA and ARIMA until they are\n",
      "removed, use:\n",
      "\n",
      "import warnings\n",
      "warnings.filterwarnings('ignore', 'statsmodels.tsa.arima_model.ARMA',\n",
      "                        FutureWarning)\n",
      "warnings.filterwarnings('ignore', 'statsmodels.tsa.arima_model.ARIMA',\n",
      "                        FutureWarning)\n",
      "\n",
      "  warnings.warn(ARIMA_DEPRECATION_WARN, FutureWarning)\n",
      "/opt/conda/envs/python3/lib/python3.6/site-packages/statsmodels/tsa/base/tsa_model.py:527: ValueWarning: No frequency information was provided, so inferred frequency MS will be used.\n",
      "  % freq, ValueWarning)\n"
     ]
    },
    {
     "data": {
      "text/html": [
       "<table class=\"simpletable\">\n",
       "<caption>ARMA Model Results</caption>\n",
       "<tr>\n",
       "  <th>Dep. Variable:</th>       <td>P3185</td>      <th>  No. Observations:  </th>    <td>29</td>    \n",
       "</tr>\n",
       "<tr>\n",
       "  <th>Model:</th>            <td>ARMA(0, 1)</td>    <th>  Log Likelihood     </th> <td>-326.819</td> \n",
       "</tr>\n",
       "<tr>\n",
       "  <th>Method:</th>             <td>css-mle</td>     <th>  S.D. of innovations</th> <td>18816.320</td>\n",
       "</tr>\n",
       "<tr>\n",
       "  <th>Date:</th>          <td>Mon, 31 Jan 2022</td> <th>  AIC                </th>  <td>659.638</td> \n",
       "</tr>\n",
       "<tr>\n",
       "  <th>Time:</th>              <td>05:41:20</td>     <th>  BIC                </th>  <td>663.739</td> \n",
       "</tr>\n",
       "<tr>\n",
       "  <th>Sample:</th>           <td>01-01-2018</td>    <th>  HQIC               </th>  <td>660.922</td> \n",
       "</tr>\n",
       "<tr>\n",
       "  <th></th>                 <td>- 05-01-2020</td>   <th>                     </th>     <td> </td>    \n",
       "</tr>\n",
       "</table>\n",
       "<table class=\"simpletable\">\n",
       "<tr>\n",
       "       <td></td>          <th>coef</th>     <th>std err</th>      <th>z</th>      <th>P>|z|</th>  <th>[0.025</th>    <th>0.975]</th>  \n",
       "</tr>\n",
       "<tr>\n",
       "  <th>const</th>       <td> 5.936e+04</td> <td> 5572.274</td> <td>   10.653</td> <td> 0.000</td> <td> 4.84e+04</td> <td> 7.03e+04</td>\n",
       "</tr>\n",
       "<tr>\n",
       "  <th>ma.L1.P3185</th> <td>    0.6151</td> <td>    0.150</td> <td>    4.089</td> <td> 0.000</td> <td>    0.320</td> <td>    0.910</td>\n",
       "</tr>\n",
       "</table>\n",
       "<table class=\"simpletable\">\n",
       "<caption>Roots</caption>\n",
       "<tr>\n",
       "    <td></td>   <th>            Real</th>  <th>         Imaginary</th> <th>         Modulus</th>  <th>        Frequency</th>\n",
       "</tr>\n",
       "<tr>\n",
       "  <th>MA.1</th> <td>          -1.6259</td> <td>          +0.0000j</td> <td>           1.6259</td> <td>           0.5000</td>\n",
       "</tr>\n",
       "</table>"
      ],
      "text/plain": [
       "<class 'statsmodels.iolib.summary.Summary'>\n",
       "\"\"\"\n",
       "                              ARMA Model Results                              \n",
       "==============================================================================\n",
       "Dep. Variable:                  P3185   No. Observations:                   29\n",
       "Model:                     ARMA(0, 1)   Log Likelihood                -326.819\n",
       "Method:                       css-mle   S.D. of innovations          18816.320\n",
       "Date:                Mon, 31 Jan 2022   AIC                            659.638\n",
       "Time:                        05:41:20   BIC                            663.739\n",
       "Sample:                    01-01-2018   HQIC                           660.922\n",
       "                         - 05-01-2020                                         \n",
       "===============================================================================\n",
       "                  coef    std err          z      P>|z|      [0.025      0.975]\n",
       "-------------------------------------------------------------------------------\n",
       "const        5.936e+04   5572.274     10.653      0.000    4.84e+04    7.03e+04\n",
       "ma.L1.P3185     0.6151      0.150      4.089      0.000       0.320       0.910\n",
       "                                    Roots                                    \n",
       "=============================================================================\n",
       "                  Real          Imaginary           Modulus         Frequency\n",
       "-----------------------------------------------------------------------------\n",
       "MA.1           -1.6259           +0.0000j            1.6259            0.5000\n",
       "-----------------------------------------------------------------------------\n",
       "\"\"\""
      ]
     },
     "execution_count": 41,
     "metadata": {},
     "output_type": "execute_result"
    }
   ],
   "source": [
    "model_ma_1 = ARMA(prod_P3185.P3185[1:], order=(0,1))\n",
    "results_ma_1 = model_ma_1.fit()\n",
    "results_ma_1.summary()"
   ]
  },
  {
   "cell_type": "markdown",
   "id": "f8afd2df",
   "metadata": {},
   "source": [
    "### Interpretation :\n",
    "Both const and ar.L1.P3185 coefficients have p-value 0. Meaning they are significant. We can try fitting complex model to see if it improves fit (do note we don't want to overfit our model)\n",
    "\n",
    "*Note AIC and BIC are slightly lower than AR(1) model"
   ]
  },
  {
   "cell_type": "markdown",
   "id": "cfaff788",
   "metadata": {},
   "source": [
    "## Higher-Lag MA Models"
   ]
  },
  {
   "cell_type": "code",
   "execution_count": 42,
   "id": "3e9adef9",
   "metadata": {
    "execution": {
     "iopub.execute_input": "2022-01-31T05:44:48.381157Z",
     "iopub.status.busy": "2022-01-31T05:44:48.380866Z",
     "iopub.status.idle": "2022-01-31T05:44:48.541908Z",
     "shell.execute_reply": "2022-01-31T05:44:48.541055Z",
     "shell.execute_reply.started": "2022-01-31T05:44:48.381131Z"
    }
   },
   "outputs": [
    {
     "name": "stdout",
     "output_type": "stream",
     "text": [
      "                              ARMA Model Results                              \n",
      "==============================================================================\n",
      "Dep. Variable:                  P3185   No. Observations:                   29\n",
      "Model:                     ARMA(0, 2)   Log Likelihood                -326.138\n",
      "Method:                       css-mle   S.D. of innovations          18391.765\n",
      "Date:                Mon, 31 Jan 2022   AIC                            660.276\n",
      "Time:                        05:44:48   BIC                            665.745\n",
      "Sample:                    01-01-2018   HQIC                           661.989\n",
      "                         - 05-01-2020                                         \n",
      "===============================================================================\n",
      "                  coef    std err          z      P>|z|      [0.025      0.975]\n",
      "-------------------------------------------------------------------------------\n",
      "const        5.903e+04   6294.355      9.378      0.000    4.67e+04    7.14e+04\n",
      "ma.L1.P3185     0.6524      0.175      3.720      0.000       0.309       0.996\n",
      "ma.L2.P3185     0.2257      0.179      1.264      0.206      -0.124       0.576\n",
      "                                    Roots                                    \n",
      "=============================================================================\n",
      "                  Real          Imaginary           Modulus         Frequency\n",
      "-----------------------------------------------------------------------------\n",
      "MA.1           -1.4451           -1.5303j            2.1048           -0.3704\n",
      "MA.2           -1.4451           +1.5303j            2.1048            0.3704\n",
      "-----------------------------------------------------------------------------\n",
      "\n",
      "LLR test p-value = 0.243\n"
     ]
    },
    {
     "name": "stderr",
     "output_type": "stream",
     "text": [
      "/opt/conda/envs/python3/lib/python3.6/site-packages/statsmodels/tsa/arima_model.py:472: FutureWarning: \n",
      "statsmodels.tsa.arima_model.ARMA and statsmodels.tsa.arima_model.ARIMA have\n",
      "been deprecated in favor of statsmodels.tsa.arima.model.ARIMA (note the .\n",
      "between arima and model) and\n",
      "statsmodels.tsa.SARIMAX. These will be removed after the 0.12 release.\n",
      "\n",
      "statsmodels.tsa.arima.model.ARIMA makes use of the statespace framework and\n",
      "is both well tested and maintained.\n",
      "\n",
      "To silence this warning and continue using ARMA and ARIMA until they are\n",
      "removed, use:\n",
      "\n",
      "import warnings\n",
      "warnings.filterwarnings('ignore', 'statsmodels.tsa.arima_model.ARMA',\n",
      "                        FutureWarning)\n",
      "warnings.filterwarnings('ignore', 'statsmodels.tsa.arima_model.ARIMA',\n",
      "                        FutureWarning)\n",
      "\n",
      "  warnings.warn(ARIMA_DEPRECATION_WARN, FutureWarning)\n",
      "/opt/conda/envs/python3/lib/python3.6/site-packages/statsmodels/tsa/base/tsa_model.py:527: ValueWarning: No frequency information was provided, so inferred frequency MS will be used.\n",
      "  % freq, ValueWarning)\n"
     ]
    }
   ],
   "source": [
    "model_ma_2 = ARMA(prod_P3185.P3185[1:], order=(0,2))\n",
    "results_ma_2 = model_ma_2.fit()\n",
    "print(results_ma_2.summary())\n",
    "print(\"\\nLLR test p-value = \" + str(LLR_test(model_ma_1, model_ma_2)))"
   ]
  },
  {
   "cell_type": "markdown",
   "id": "4feac848",
   "metadata": {},
   "source": [
    "The LLR suggest the more complex model MA2 is not significant, which we also observed in coefficients p-value. So we stick with simpler MA(1) model which was also suggested in ACF and PACF plots. Not trying more complex MA models"
   ]
  },
  {
   "cell_type": "markdown",
   "id": "4ddf3bda",
   "metadata": {},
   "source": [
    "## ARMA(1) Model"
   ]
  },
  {
   "cell_type": "code",
   "execution_count": 47,
   "id": "4e53a44c",
   "metadata": {
    "execution": {
     "iopub.execute_input": "2022-01-31T06:02:52.599747Z",
     "iopub.status.busy": "2022-01-31T06:02:52.599398Z",
     "iopub.status.idle": "2022-01-31T06:02:52.882393Z",
     "shell.execute_reply": "2022-01-31T06:02:52.881421Z",
     "shell.execute_reply.started": "2022-01-31T06:02:52.599702Z"
    }
   },
   "outputs": [
    {
     "name": "stderr",
     "output_type": "stream",
     "text": [
      "/opt/conda/envs/python3/lib/python3.6/site-packages/statsmodels/tsa/arima_model.py:472: FutureWarning: \n",
      "statsmodels.tsa.arima_model.ARMA and statsmodels.tsa.arima_model.ARIMA have\n",
      "been deprecated in favor of statsmodels.tsa.arima.model.ARIMA (note the .\n",
      "between arima and model) and\n",
      "statsmodels.tsa.SARIMAX. These will be removed after the 0.12 release.\n",
      "\n",
      "statsmodels.tsa.arima.model.ARIMA makes use of the statespace framework and\n",
      "is both well tested and maintained.\n",
      "\n",
      "To silence this warning and continue using ARMA and ARIMA until they are\n",
      "removed, use:\n",
      "\n",
      "import warnings\n",
      "warnings.filterwarnings('ignore', 'statsmodels.tsa.arima_model.ARMA',\n",
      "                        FutureWarning)\n",
      "warnings.filterwarnings('ignore', 'statsmodels.tsa.arima_model.ARIMA',\n",
      "                        FutureWarning)\n",
      "\n",
      "  warnings.warn(ARIMA_DEPRECATION_WARN, FutureWarning)\n",
      "/opt/conda/envs/python3/lib/python3.6/site-packages/statsmodels/tsa/base/tsa_model.py:527: ValueWarning: No frequency information was provided, so inferred frequency MS will be used.\n",
      "  % freq, ValueWarning)\n"
     ]
    },
    {
     "name": "stdout",
     "output_type": "stream",
     "text": [
      "\n",
      "LLR test p-value AR(1) and ARMA(1) = 0.0\n",
      "\n",
      "LLR test p-value MA(1) and ARMA(1) = 0.131\n"
     ]
    }
   ],
   "source": [
    "model_ar_1_ma_1 = ARMA(prod_P3185.P3185[1:], order=(1,1))\n",
    "results_ar_1_ma_1 = model_ar_1_ma_1.fit()\n",
    "results_ar_1_ma_1.summary()\n",
    "print(\"\\nLLR test p-value AR(1) and ARMA(1) = \" + str(LLR_test(model_ar, model_ar_1_ma_1)))\n",
    "print(\"\\nLLR test p-value MA(1) and ARMA(1) = \" + str(LLR_test(model_ma_1, model_ar_1_ma_1)))"
   ]
  },
  {
   "cell_type": "markdown",
   "id": "547c16a0",
   "metadata": {},
   "source": [
    "We see from the LLR test, MA(1) model is better over ARMA(1) model. p-value at 5% or 10% is not significant. however close to 10%. We would also like to check this for other Product Groups and see if it holds true for all"
   ]
  },
  {
   "cell_type": "markdown",
   "id": "a6fd65ed",
   "metadata": {},
   "source": [
    "# From above experiments we decide MA(1) to be most appropriate model\n",
    "* Note we can run results on higher level Major product group but their are trade-offs. Going to higher level dilutes the information of product groups. Significant quantity ordered differences between products of same Major product group"
   ]
  },
  {
   "cell_type": "code",
   "execution_count": null,
   "id": "f6f74fc5",
   "metadata": {},
   "outputs": [],
   "source": [
    "end_date = \"2015-01-01\"\n",
    "\n",
    "model_ret_ma = ARIMA(df.ret_ftse[1:], order=(0,0,1))\n",
    "results_ret_ma = model_ret_ma.fit()\n",
    "\n",
    "df_pred_ma = results_ret_ma.predict(start = start_date, end = end_date) \n",
    "\n",
    "df_pred_ma[start_date:end_date].plot(figsize = (20,5), color = \"red\")   \n",
    "df_test.ret_ftse[start_date:end_date].plot(color = \"blue\")\n",
    "plt.title(\"Predictions vs Actual (Returns)\", size = 24)\n",
    "plt.show()"
   ]
  },
  {
   "cell_type": "code",
   "execution_count": 54,
   "id": "7e94f5c1",
   "metadata": {
    "execution": {
     "iopub.execute_input": "2022-01-31T06:20:20.191261Z",
     "iopub.status.busy": "2022-01-31T06:20:20.190943Z",
     "iopub.status.idle": "2022-01-31T06:20:20.553075Z",
     "shell.execute_reply": "2022-01-31T06:20:20.552131Z",
     "shell.execute_reply.started": "2022-01-31T06:20:20.191233Z"
    }
   },
   "outputs": [
    {
     "name": "stderr",
     "output_type": "stream",
     "text": [
      "/opt/conda/envs/python3/lib/python3.6/site-packages/statsmodels/tsa/arima_model.py:472: FutureWarning: \n",
      "statsmodels.tsa.arima_model.ARMA and statsmodels.tsa.arima_model.ARIMA have\n",
      "been deprecated in favor of statsmodels.tsa.arima.model.ARIMA (note the .\n",
      "between arima and model) and\n",
      "statsmodels.tsa.SARIMAX. These will be removed after the 0.12 release.\n",
      "\n",
      "statsmodels.tsa.arima.model.ARIMA makes use of the statespace framework and\n",
      "is both well tested and maintained.\n",
      "\n",
      "To silence this warning and continue using ARMA and ARIMA until they are\n",
      "removed, use:\n",
      "\n",
      "import warnings\n",
      "warnings.filterwarnings('ignore', 'statsmodels.tsa.arima_model.ARMA',\n",
      "                        FutureWarning)\n",
      "warnings.filterwarnings('ignore', 'statsmodels.tsa.arima_model.ARIMA',\n",
      "                        FutureWarning)\n",
      "\n",
      "  warnings.warn(ARIMA_DEPRECATION_WARN, FutureWarning)\n",
      "/opt/conda/envs/python3/lib/python3.6/site-packages/statsmodels/tsa/base/tsa_model.py:527: ValueWarning: No frequency information was provided, so inferred frequency MS will be used.\n",
      "  % freq, ValueWarning)\n"
     ]
    },
    {
     "data": {
      "image/png": "[encoded data removed]",
      "text/plain": [
       "<Figure size 1440x720 with 1 Axes>"
      ]
     },
     "metadata": {
      "needs_background": "light"
     },
     "output_type": "display_data"
    }
   ],
   "source": [
    "model_ma_1 = ARMA(prod_P3185.P3185[1:], order=(0,1))\n",
    "results_ma_1 = model_ma_1.fit()\n",
    "\n",
    "start_date = '2018-01-01'\n",
    "end_date = '2020-07-01'\n",
    "\n",
    "df_pred_ma = results_ma_1.predict(start = '2018-01-01', end = '2020-07-01')\n",
    "df_pred_ma[start_date:end_date].plot(figsize = (20,10), color = \"red\") \n",
    "prod_P3185.P3185.plot(color = \"blue\")\n",
    "plt.title(\"Predictions vs Actual (Returns)\", size = 24)\n",
    "plt.show()"
   ]
  },
  {
   "cell_type": "code",
   "execution_count": 66,
   "id": "2ac59d16",
   "metadata": {
    "execution": {
     "iopub.execute_input": "2022-01-31T06:28:54.757670Z",
     "iopub.status.busy": "2022-01-31T06:28:54.757370Z",
     "iopub.status.idle": "2022-01-31T06:28:54.769937Z",
     "shell.execute_reply": "2022-01-31T06:28:54.768998Z",
     "shell.execute_reply.started": "2022-01-31T06:28:54.757641Z"
    }
   },
   "outputs": [
    {
     "data": {
      "text/html": [
       "<div>\n",
       "<style scoped>\n",
       "    .dataframe tbody tr th:only-of-type {\n",
       "        vertical-align: middle;\n",
       "    }\n",
       "\n",
       "    .dataframe tbody tr th {\n",
       "        vertical-align: top;\n",
       "    }\n",
       "\n",
       "    .dataframe thead th {\n",
       "        text-align: right;\n",
       "    }\n",
       "</style>\n",
       "<table border=\"1\" class=\"dataframe\">\n",
       "  <thead>\n",
       "    <tr style=\"text-align: right;\">\n",
       "      <th></th>\n",
       "      <th>monthly_date</th>\n",
       "      <th>requested_qty_predicted</th>\n",
       "    </tr>\n",
       "  </thead>\n",
       "  <tbody>\n",
       "    <tr>\n",
       "      <th>26</th>\n",
       "      <td>2020-03-01</td>\n",
       "      <td>77524.469817</td>\n",
       "    </tr>\n",
       "    <tr>\n",
       "      <th>27</th>\n",
       "      <td>2020-04-01</td>\n",
       "      <td>66962.784978</td>\n",
       "    </tr>\n",
       "    <tr>\n",
       "      <th>28</th>\n",
       "      <td>2020-05-01</td>\n",
       "      <td>81585.359309</td>\n",
       "    </tr>\n",
       "    <tr>\n",
       "      <th>29</th>\n",
       "      <td>2020-06-01</td>\n",
       "      <td>51297.465350</td>\n",
       "    </tr>\n",
       "    <tr>\n",
       "      <th>30</th>\n",
       "      <td>2020-07-01</td>\n",
       "      <td>59358.963868</td>\n",
       "    </tr>\n",
       "  </tbody>\n",
       "</table>\n",
       "</div>"
      ],
      "text/plain": [
       "   monthly_date  requested_qty_predicted\n",
       "26   2020-03-01             77524.469817\n",
       "27   2020-04-01             66962.784978\n",
       "28   2020-05-01             81585.359309\n",
       "29   2020-06-01             51297.465350\n",
       "30   2020-07-01             59358.963868"
      ]
     },
     "execution_count": 66,
     "metadata": {},
     "output_type": "execute_result"
    }
   ],
   "source": [
    "df_pred_P3185 = df_pred_ma.head(32).to_frame()\n",
    "df_pred_P3185 = df_pred_P3185.reset_index()\n",
    "df_pred_P3185 = df_pred_P3185.rename(columns={'index': 'monthly_date', 0: 'requested_qty_predicted'})\n",
    "df_pred_P3185.tail()"
   ]
  },
  {
   "cell_type": "markdown",
   "id": "93c1a5c5",
   "metadata": {},
   "source": [
    "# Next Steps"
   ]
  },
  {
   "cell_type": "markdown",
   "id": "9b2e1503",
   "metadata": {},
   "source": [
    "1. Discuss with the team/client if the levels of analysis is appropriate\n",
    "2. Discuss the approach with a Principal DS or DS Manager and incorporate feedbacks\n",
    "3. Also take into consideration how other variables can be incorporated and if they are adding any value. We checked in EDA all other variables don't influence requested qty or sell in qty\n",
    "4. If everything checks out, loop the Product Groups 1 by 1 to predict the requested qty and get the final results\n",
    "5. For the 7% product groups that don't have 2+ years of data for forecasting, consult with (2) what is the best approach. A simple moving average of last Quarters might be an option"
   ]
  },
  {
   "cell_type": "code",
   "execution_count": 67,
   "id": "9210bd3f",
   "metadata": {
    "execution": {
     "iopub.execute_input": "2022-01-31T07:19:36.450703Z",
     "iopub.status.busy": "2022-01-31T07:19:36.450382Z",
     "iopub.status.idle": "2022-01-31T07:19:40.856326Z",
     "shell.execute_reply": "2022-01-31T07:19:40.855167Z",
     "shell.execute_reply.started": "2022-01-31T07:19:36.450673Z"
    }
   },
   "outputs": [
    {
     "name": "stdout",
     "output_type": "stream",
     "text": [
      "[NbConvertApp] Converting notebook Code2_Forecasting.ipynb to html\n"
     ]
    }
   ],
   "source": [
    "!jupyter nbconvert --to html Code2_Forecasting.ipynb"
   ]
  }
 ],
 "metadata": {
  "kernelspec": {
   "display_name": "Python 3",
   "language": "python",
   "name": "python3"
  },
  "language_info": {
   "codemirror_mode": {
    "name": "ipython",
    "version": 3
   },
   "file_extension": ".py",
   "mimetype": "text/x-python",
   "name": "python",
   "nbconvert_exporter": "python",
   "pygments_lexer": "ipython3",
   "version": "3.6.13"
  }
 },
 "nbformat": 4,
 "nbformat_minor": 5
}
